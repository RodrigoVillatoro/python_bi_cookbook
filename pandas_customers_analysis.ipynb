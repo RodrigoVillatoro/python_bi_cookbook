{
 "cells": [
  {
   "cell_type": "code",
   "execution_count": null,
   "metadata": {
    "collapsed": false
   },
   "outputs": [],
   "source": [
    "# Import from CSV to create Pandas DataFrame\n",
    "\n",
    "import pandas\n",
    "\n",
    "from config_secret import DATA_DIR\n",
    "\n",
    "data_file = DATA_DIR + '/customer_data.csv'\n",
    "customers = pandas.read_csv(\n",
    "    data_file,\n",
    "    sep=',',\n",
    "    header=0,\n",
    "    index_col=False,\n",
    "    parse_dates=['date_of_birth'],\n",
    "    dayfirst=True,\n",
    "    tupleize_cols=False,\n",
    "    error_bad_lines=True,\n",
    "    warn_bad_lines=True,\n",
    "    skip_blank_lines=True,\n",
    ")"
   ]
  },
  {
   "cell_type": "code",
   "execution_count": null,
   "metadata": {
    "collapsed": false
   },
   "outputs": [],
   "source": [
    "# Create DataFrame with columns in the accidents DatataFrame\n",
    "columns = pandas.DataFrame(list(customers.columns.values))\n",
    "columns"
   ]
  },
  {
   "cell_type": "code",
   "execution_count": null,
   "metadata": {
    "collapsed": false
   },
   "outputs": [],
   "source": [
    "# Create a DataFrame of the data type of each column\n",
    "data_types = pandas.DataFrame(\n",
    "    customers.dtypes,\n",
    "    columns=['Data Type'],\n",
    ")\n",
    "data_types"
   ]
  },
  {
   "cell_type": "code",
   "execution_count": null,
   "metadata": {
    "collapsed": false
   },
   "outputs": [],
   "source": [
    "# Create a DataFrame with the count of missing values\n",
    "missing_data_counts = pandas.DataFrame(\n",
    "    customers.isnull().sum(),\n",
    "    columns=['Missing Values'],\n",
    ")\n",
    "missing_data_counts"
   ]
  },
  {
   "cell_type": "code",
   "execution_count": null,
   "metadata": {
    "collapsed": false
   },
   "outputs": [],
   "source": [
    "# Create a DataFrame with present values in each column\n",
    "present_data_counts = pandas.DataFrame(\n",
    "    customers.count(),\n",
    "    columns=['Present Values'],\n",
    ")\n",
    "present_data_counts"
   ]
  },
  {
   "cell_type": "code",
   "execution_count": null,
   "metadata": {
    "collapsed": false
   },
   "outputs": [],
   "source": [
    "# Create DataFrame with count of unique values in each column\n",
    "unique_value_counts = pandas.DataFrame(columns=['Unique Values'])\n",
    "for v in list(customers.columns.values):\n",
    "    unique_value_counts.loc[v] = [customers[v].nunique()]\n",
    "unique_value_counts\n"
   ]
  },
  {
   "cell_type": "code",
   "execution_count": null,
   "metadata": {
    "collapsed": false
   },
   "outputs": [],
   "source": [
    "# Creata DataFrame with minimum value of each column\n",
    "minimum_values = pandas.DataFrame(columns=['Minimum Value'])\n",
    "for v in list(customers.columns.values):\n",
    "    minimum_values.loc[v] = [customers[v].min()]\n",
    "minimum_values"
   ]
  },
  {
   "cell_type": "code",
   "execution_count": null,
   "metadata": {
    "collapsed": false
   },
   "outputs": [],
   "source": [
    "# Creata DataFrame with maximum value of each column\n",
    "maximum_values = pandas.DataFrame(columns=['Maximum Value'])\n",
    "for v in list(customers.columns.values):\n",
    "    maximum_values.loc[v] = [customers[v].max()]\n",
    "maximum_values"
   ]
  },
  {
   "cell_type": "code",
   "execution_count": null,
   "metadata": {
    "collapsed": false
   },
   "outputs": [],
   "source": [
    "# Merge all the DataFrames by index\n",
    "data_quality_report = data_types.join(\n",
    "    present_data_counts).join(\n",
    "    missing_data_counts).join(\n",
    "    unique_value_counts).join(\n",
    "    minimum_values).join(\n",
    "    maximum_values)\n",
    "\n",
    "print('\\nDATA QUALITY REPORT')\n",
    "print('Total records {}'.format(len(customers.index)))\n",
    "data_quality_report"
   ]
  },
  {
   "cell_type": "code",
   "execution_count": null,
   "metadata": {
    "collapsed": false
   },
   "outputs": [],
   "source": [
    "# Creating summary statistics\n",
    "customers.describe().transpose()"
   ]
  },
  {
   "cell_type": "code",
   "execution_count": null,
   "metadata": {
    "collapsed": false
   },
   "outputs": [],
   "source": [
    "customers.describe(include=['object']).transpose()"
   ]
  }
 ],
 "metadata": {
  "kernelspec": {
   "display_name": "Python 3",
   "language": "python",
   "name": "python3"
  },
  "language_info": {
   "codemirror_mode": {
    "name": "ipython",
    "version": 3
   },
   "file_extension": ".py",
   "mimetype": "text/x-python",
   "name": "python",
   "nbconvert_exporter": "python",
   "pygments_lexer": "ipython3",
   "version": "3.5.1"
  }
 },
 "nbformat": 4,
 "nbformat_minor": 0
}
