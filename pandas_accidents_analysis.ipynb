{
 "cells": [
  {
   "cell_type": "code",
   "execution_count": null,
   "metadata": {
    "collapsed": false
   },
   "outputs": [],
   "source": [
    "# Import CSV to DataSet\n",
    "import pandas\n",
    "\n",
    "from config_secret import DATA_DIR\n",
    "\n",
    "accidents_data_file = '/Stats19-Data1979-2004/Accidents7904.csv'\n",
    "accidents_file = DATA_DIR + accidents_data_file\n",
    "\n",
    "accidents = pandas.read_csv(\n",
    "    accidents_file,\n",
    "    sep=',',\n",
    "    header=0,\n",
    "    index_col=False,\n",
    "    parse_dates=['Date'],\n",
    "    dayfirst=True,\n",
    "    tupleize_cols=False,\n",
    "    error_bad_lines=True,\n",
    "    warn_bad_lines=True,\n",
    "    skip_blank_lines=True,\n",
    "    nrows=10000,\n",
    ")"
   ]
  },
  {
   "cell_type": "code",
   "execution_count": null,
   "metadata": {
    "collapsed": false,
    "scrolled": true
   },
   "outputs": [],
   "source": [
    "# Create report columns\n",
    "\n",
    "data_types = pandas.DataFrame(\n",
    "    accidents.dtypes,\n",
    "    columns=['Data Type']\n",
    ")\n",
    "\n",
    "missing_data_counts = pandas.DataFrame(\n",
    "    accidents.isnull().sum(),\n",
    "    columns=['Missing Values']\n",
    ")\n",
    "\n",
    "present_data_counts = pandas.DataFrame(\n",
    "    accidents.count(),\n",
    "    columns=['Present Values']\n",
    ")\n",
    "\n",
    "unique_value_counts = pandas.DataFrame(columns=['Unique Values'])\n",
    "for v in list(accidents.columns.values):\n",
    "    unique_value_counts.loc[v] = [accidents[v].nunique()]\n",
    "\n",
    "minimum_values = pandas.DataFrame(columns=['Minimum Value'])\n",
    "for v in list(accidents.columns.values):\n",
    "    try: \n",
    "        minimum_values.loc[v] = [accidents[v].min()]\n",
    "    except:\n",
    "        pass\n",
    "    \n",
    "maximum_values = pandas.DataFrame(columns=['Maximum Value'])\n",
    "for v in list(accidents.columns.values):\n",
    "    try:\n",
    "        maximum_values.loc[v] = [accidents[v].max()]\n",
    "    except:\n",
    "        pass\n"
   ]
  },
  {
   "cell_type": "code",
   "execution_count": null,
   "metadata": {
    "collapsed": false
   },
   "outputs": [],
   "source": [
    "# Merge all DataFrames\n",
    "\n",
    "data_quality_report = data_types.join(present_data_counts).join(\n",
    "    missing_data_counts).join(unique_value_counts).join(\n",
    "    minimum_values).join(maximum_values)\n",
    "\n",
    "print('\\nDATA QUALITY REPORT')\n",
    "print('Total records: {}'.format(len(accidents.index)))\n",
    "data_quality_report"
   ]
  },
  {
   "cell_type": "code",
   "execution_count": null,
   "metadata": {
    "collapsed": false
   },
   "outputs": [],
   "source": [
    "accidents.describe().transpose()"
   ]
  },
  {
   "cell_type": "code",
   "execution_count": null,
   "metadata": {
    "collapsed": false
   },
   "outputs": [],
   "source": [
    "accidents.describe(include=['object']).transpose()"
   ]
  },
  {
   "cell_type": "code",
   "execution_count": null,
   "metadata": {
    "collapsed": false
   },
   "outputs": [],
   "source": [
    "# Get the mode of the columns\n",
    "accidents.mode().transpose()"
   ]
  },
  {
   "cell_type": "code",
   "execution_count": null,
   "metadata": {
    "collapsed": false
   },
   "outputs": [],
   "source": [
    "# Generate frequency table for a single column\n",
    "import numpy\n",
    "\n",
    "casualty_count = accidents.groupby('Date').agg(\n",
    "    {'Number_of_Casualties': numpy.sum})\n",
    "casualty_count"
   ]
  },
  {
   "cell_type": "code",
   "execution_count": null,
   "metadata": {
    "collapsed": false
   },
   "outputs": [],
   "source": [
    "# Add another column\n",
    "vehicle_count = accidents.groupby('Date').agg(\n",
    "    {'Number_of_Vehicles': numpy.sum})\n",
    "vehicle_count"
   ]
  },
  {
   "cell_type": "code",
   "execution_count": null,
   "metadata": {
    "collapsed": false
   },
   "outputs": [],
   "source": [
    "casualties_and_vehicles = casualty_count.merge(\n",
    "    vehicle_count, left_index=True, right_index=True)\n",
    "casualties_and_vehicles"
   ]
  },
  {
   "cell_type": "code",
   "execution_count": null,
   "metadata": {
    "collapsed": false
   },
   "outputs": [],
   "source": [
    "# Create histogram\n",
    "%matplotlib inline\n",
    "import matplotlib\n",
    "import matplotlib.pyplot as plt\n",
    "\n",
    "plt.hist(casualty_count['Number_of_Casualties'], bins=30)\n",
    "plt.title('Number of Casualties Histogram')\n",
    "plt.xlabel('Value')\n",
    "plt.ylabel('Frequency')\n",
    "plt.show()"
   ]
  },
  {
   "cell_type": "code",
   "execution_count": null,
   "metadata": {
    "collapsed": false
   },
   "outputs": [],
   "source": [
    "# Plot two sets of values\n",
    "plt.hist(casualty_count['Number_of_Casualties'], bins=20,\n",
    "        histtype='stepfilled', normed=True, color='b', \n",
    "        label='Casualties')\n",
    "plt.hist(vehicle_count['Number_of_Vehicles'], bins=20, \n",
    "        histtype='stepfilled', normed=True, color='r',\n",
    "        label='Vehicles')\n",
    "plt.title('Casualties/Vehicles Histogram')\n",
    "plt.xlabel('Value')\n",
    "plt.ylabel('Probability')\n",
    "plt.legend()\n",
    "plt.show()\n",
    "\n"
   ]
  },
  {
   "cell_type": "code",
   "execution_count": null,
   "metadata": {
    "collapsed": true
   },
   "outputs": [],
   "source": []
  }
 ],
 "metadata": {
  "kernelspec": {
   "display_name": "Python 3",
   "language": "python",
   "name": "python3"
  },
  "language_info": {
   "codemirror_mode": {
    "name": "ipython",
    "version": 3
   },
   "file_extension": ".py",
   "mimetype": "text/x-python",
   "name": "python",
   "nbconvert_exporter": "python",
   "pygments_lexer": "ipython3",
   "version": "3.5.1"
  }
 },
 "nbformat": 4,
 "nbformat_minor": 0
}
