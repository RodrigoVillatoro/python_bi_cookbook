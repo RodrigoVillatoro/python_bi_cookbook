{
 "cells": [
  {
   "cell_type": "code",
   "execution_count": null,
   "metadata": {
    "collapsed": false
   },
   "outputs": [],
   "source": [
    "# Import file\n",
    "%matplotlib inline\n",
    "import matplotlib as plt\n",
    "import matplotlib.pyplot as plt\n",
    "import numpy\n",
    "import pandas\n",
    "\n",
    "\n",
    "from config_secret import DATA_DIR\n",
    "\n",
    "accidents_data_file = '/Stats19-Data1979-2004/Accidents7904.csv'\n",
    "accidents_file = DATA_DIR + accidents_data_file\n",
    "\n",
    "accidents = pandas.read_csv(\n",
    "    accidents_file,\n",
    "    sep=',',\n",
    "    header=0,\n",
    "    index_col=False,\n",
    "    parse_dates=True,\n",
    "    tupleize_cols=False,\n",
    "    error_bad_lines=False,\n",
    "    warn_bad_lines=True,\n",
    "    skip_blank_lines=True,\n",
    "    low_memory=False,\n",
    "    nrows=10000,\n",
    ")\n"
   ]
  },
  {
   "cell_type": "code",
   "execution_count": null,
   "metadata": {
    "collapsed": false
   },
   "outputs": [],
   "source": [
    "# Print top 5 rows\n",
    "accidents.head()"
   ]
  },
  {
   "cell_type": "code",
   "execution_count": null,
   "metadata": {
    "collapsed": false
   },
   "outputs": [],
   "source": [
    "# Get full list of columns and data types\n",
    "accidents.dtypes"
   ]
  },
  {
   "cell_type": "code",
   "execution_count": null,
   "metadata": {
    "collapsed": false
   },
   "outputs": [],
   "source": [
    "# Create histogram of weather conditions\n",
    "fig = plt.figure()\n",
    "ax = fig.add_subplot(111)\n",
    "ax.hist(\n",
    "    accidents['Weather_Conditions'],\n",
    "    range=(accidents['Weather_Conditions'].min(),\n",
    "          accidents['Weather_Conditions'].max())\n",
    ")\n",
    "counts, bins, patches = ax.hist(\n",
    "    accidents['Weather_Conditions'],\n",
    "    facecolor='green',\n",
    "    edgecolor='gray',\n",
    ")\n",
    "ax.set_xticks(bins)\n",
    "plt.title('Weather Conditions Distribution')\n",
    "plt.xlabel('Weather Condition')\n",
    "plt.ylabel('Count of Weather Condition')\n",
    "plt.show()"
   ]
  },
  {
   "cell_type": "code",
   "execution_count": null,
   "metadata": {
    "collapsed": false
   },
   "outputs": [],
   "source": [
    "# Create box plot of light conditions\n",
    "accidents.boxplot(\n",
    "    column='Light_Conditions',\n",
    "    return_type='dict'\n",
    ");"
   ]
  },
  {
   "cell_type": "code",
   "execution_count": null,
   "metadata": {
    "collapsed": false
   },
   "outputs": [],
   "source": [
    "# Grouped by weather conditions\n",
    "accidents.boxplot(\n",
    "    column='Light_Conditions',\n",
    "    by='Weather_Conditions',\n",
    "    return_type='dict'\n",
    ");"
   ]
  },
  {
   "cell_type": "code",
   "execution_count": null,
   "metadata": {
    "collapsed": true
   },
   "outputs": [],
   "source": []
  }
 ],
 "metadata": {
  "kernelspec": {
   "display_name": "Python 3",
   "language": "python",
   "name": "python3"
  },
  "language_info": {
   "codemirror_mode": {
    "name": "ipython",
    "version": 3
   },
   "file_extension": ".py",
   "mimetype": "text/x-python",
   "name": "python",
   "nbconvert_exporter": "python",
   "pygments_lexer": "ipython3",
   "version": "3.5.1"
  }
 },
 "nbformat": 4,
 "nbformat_minor": 0
}
